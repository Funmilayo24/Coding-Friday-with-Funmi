{
 "cells": [
  {
   "cell_type": "markdown",
   "id": "64f4d473-ca59-4102-a47d-f7caec64bf36",
   "metadata": {},
   "source": [
    "## Coding Friday with Funmi"
   ]
  },
  {
   "cell_type": "markdown",
   "id": "1a719e47-01c0-406f-8630-e6a1e952007d",
   "metadata": {},
   "source": [
    "### Problem 1: Two Sum\n",
    "\n",
    "#### Difficulty: Easy\n",
    "#### Description:\n",
    "Given an array of integers nums and an integer target, return indices of the two numbers such that they add up to target.\n",
    "\n",
    "You may assume that each input would have exactly one solution, and you may not use the same element twice."
   ]
  },
  {
   "cell_type": "markdown",
   "id": "e44ba781-bb63-4dd0-9eb3-bafbf9d19ea5",
   "metadata": {},
   "source": [
    "### Example\n",
    "\n",
    "Input: nums = [2, 7, 11, 15], target = 9  \n",
    "\n",
    "Output: [0, 1]  \n",
    "\n",
    "Explanation: Because nums[0] + nums[1] = 2 + 7 = 9.  \n"
   ]
  },
  {
   "cell_type": "code",
   "execution_count": 3,
   "id": "ab3fd19a-6b00-40a7-95b4-fece2d6eca67",
   "metadata": {},
   "outputs": [
    {
     "name": "stdout",
     "output_type": "stream",
     "text": [
      "[0, 2]\n"
     ]
    }
   ],
   "source": [
    "def twoSum(nums, target):\n",
    "\n",
    "    num_map = {} \n",
    "\n",
    "    # Loop through each number in the list\n",
    "    for i, num in enumerate(nums):  \n",
    "        # Calculate the difference needed to reach the target\n",
    "        diff = target - num  \n",
    "\n",
    "        # Check if the difference is already in our dictionary\n",
    "        if diff in num_map:\n",
    "            # If yes, return the positions of the two numbers\n",
    "            return [num_map[diff], i]  \n",
    "\n",
    "       # Otherwise, add the current number and its position to the dictionary\n",
    "        num_map[num] = i  \n",
    "\n",
    "nums = [2, 12, 7, 15]\n",
    "target = 9\n",
    "print(twoSum(nums, target))"
   ]
  },
  {
   "cell_type": "markdown",
   "id": "57d26dfa-9be9-43a5-b9ee-7ff42a1d2bb2",
   "metadata": {},
   "source": [
    "### Problem 2: Reverse String\n",
    "\n",
    "#### Difficulty: Easy\n",
    "#### Description:\n",
    "\n",
    "Write a function that reverses a string. The input string is given as a list of characters s.\n",
    "\n",
    "#### Example:\n",
    "\n",
    "Input: s = [\"h\", \"e\", \"l\", \"l\", \"o\"]  \n",
    "\n",
    "Output: [\"o\", \"l\", \"l\", \"e\", \"h\"]  \n",
    "\n"
   ]
  },
  {
   "cell_type": "code",
   "execution_count": 4,
   "id": "57d41100-b4d5-449d-8f7a-529fea837260",
   "metadata": {},
   "outputs": [
    {
     "name": "stdout",
     "output_type": "stream",
     "text": [
      "['o', 'l', 'l', 'e', 'h']\n"
     ]
    }
   ],
   "source": [
    "def reverseString(s):\n",
    "\n",
    "    # Initialize pointers\n",
    "    left, right = 0, len(s) - 1     \n",
    "\n",
    "    # Continue swapping while pointers haven't crossed\n",
    "    while left < right:\n",
    "        # Swap the characters\n",
    "        s[left], s[right] = s[right], s[left]  \n",
    "\n",
    "         # Move pointers towards the center\n",
    "        left += 1\n",
    "        right -= 1\n",
    "\n",
    "s = [\"h\", \"e\", \"l\", \"l\", \"o\"]\n",
    "reverseString(s)\n",
    "print(s)"
   ]
  },
  {
   "cell_type": "code",
   "execution_count": null,
   "id": "3222e079-673d-4bc3-8973-4233ae7a77f7",
   "metadata": {},
   "outputs": [],
   "source": []
  }
 ],
 "metadata": {
  "kernelspec": {
   "display_name": "Python 3 (ipykernel)",
   "language": "python",
   "name": "python3"
  },
  "language_info": {
   "codemirror_mode": {
    "name": "ipython",
    "version": 3
   },
   "file_extension": ".py",
   "mimetype": "text/x-python",
   "name": "python",
   "nbconvert_exporter": "python",
   "pygments_lexer": "ipython3",
   "version": "3.12.7"
  }
 },
 "nbformat": 4,
 "nbformat_minor": 5
}
